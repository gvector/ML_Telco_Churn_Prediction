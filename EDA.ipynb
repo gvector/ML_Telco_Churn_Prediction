{
 "cells": [
  {
   "cell_type": "code",
   "execution_count": 2,
   "id": "9b7d5899",
   "metadata": {},
   "outputs": [],
   "source": [
    "from sklearn.metrics import f1_score, recall_score, precision_score\n",
    "from sklearn.model_selection import train_test_split\n",
    "from sklearn.linear_model import LogisticRegression\n",
    "from sklearn.ensemble import RandomForestClassifier\n",
    "from sklearn.tree import DecisionTreeClassifier\n",
    "import matplotlib.pyplot as plt\n",
    "import seaborn as sns\n",
    "import xgboost as xgb\n",
    "import pandas as pd\n",
    "import numpy as np\n",
    "import warnings\n",
    "import pickle\n",
    "import os\n",
    "\n",
    "pd.set_option(\"display.max_columns\", 100)\n",
    "warnings.filterwarnings(\"ignore\")"
   ]
  },
  {
   "cell_type": "markdown",
   "id": "bea93653",
   "metadata": {},
   "source": [
    "# EDA"
   ]
  },
  {
   "cell_type": "markdown",
   "id": "11bf6b1f",
   "metadata": {},
   "source": [
    "The dataset used is the result of the merging between the Telco Datasets by IBM on Kaggle [IBM Telco Churn Dataset](https://www.kaggle.com/datasets/aadityabansalcodes/telecommunications-industry-customer-churn-dataset/data)"
   ]
  },
  {
   "cell_type": "code",
   "execution_count": 3,
   "id": "d5d93ab9",
   "metadata": {},
   "outputs": [
    {
     "data": {
      "application/vnd.microsoft.datawrangler.viewer.v0+json": {
       "columns": [
        {
         "name": "index",
         "rawType": "int64",
         "type": "integer"
        },
        {
         "name": "Customer ID",
         "rawType": "object",
         "type": "string"
        },
        {
         "name": "Count",
         "rawType": "int64",
         "type": "integer"
        },
        {
         "name": "Country",
         "rawType": "object",
         "type": "string"
        },
        {
         "name": "State",
         "rawType": "object",
         "type": "string"
        },
        {
         "name": "City",
         "rawType": "object",
         "type": "string"
        },
        {
         "name": "Zip Code",
         "rawType": "int64",
         "type": "integer"
        },
        {
         "name": "Lat Long",
         "rawType": "object",
         "type": "string"
        },
        {
         "name": "Latitude",
         "rawType": "float64",
         "type": "float"
        },
        {
         "name": "Longitude",
         "rawType": "float64",
         "type": "float"
        },
        {
         "name": "Gender",
         "rawType": "object",
         "type": "string"
        },
        {
         "name": "Senior Citizen",
         "rawType": "object",
         "type": "string"
        },
        {
         "name": "Partner",
         "rawType": "object",
         "type": "string"
        },
        {
         "name": "Dependents",
         "rawType": "object",
         "type": "string"
        },
        {
         "name": "Tenure Months",
         "rawType": "int64",
         "type": "integer"
        },
        {
         "name": "Phone Service",
         "rawType": "object",
         "type": "string"
        },
        {
         "name": "Multiple Lines",
         "rawType": "object",
         "type": "string"
        },
        {
         "name": "Internet Service",
         "rawType": "object",
         "type": "string"
        },
        {
         "name": "Online Security",
         "rawType": "object",
         "type": "string"
        },
        {
         "name": "Online Backup",
         "rawType": "object",
         "type": "string"
        },
        {
         "name": "Device Protection",
         "rawType": "object",
         "type": "string"
        },
        {
         "name": "Tech Support",
         "rawType": "object",
         "type": "string"
        },
        {
         "name": "Streaming TV",
         "rawType": "object",
         "type": "string"
        },
        {
         "name": "Streaming Movies",
         "rawType": "object",
         "type": "string"
        },
        {
         "name": "Contract",
         "rawType": "object",
         "type": "string"
        },
        {
         "name": "Paperless Billing",
         "rawType": "object",
         "type": "string"
        },
        {
         "name": "Payment Method",
         "rawType": "object",
         "type": "string"
        },
        {
         "name": "Monthly Charges",
         "rawType": "float64",
         "type": "float"
        },
        {
         "name": "Total Charges",
         "rawType": "object",
         "type": "string"
        },
        {
         "name": "Churn Label",
         "rawType": "object",
         "type": "string"
        },
        {
         "name": "Churn Value",
         "rawType": "int64",
         "type": "integer"
        },
        {
         "name": "Churn Score",
         "rawType": "int64",
         "type": "integer"
        },
        {
         "name": "CLTV",
         "rawType": "int64",
         "type": "integer"
        },
        {
         "name": "Churn Reason",
         "rawType": "object",
         "type": "string"
        },
        {
         "name": "LoyaltyID",
         "rawType": "int64",
         "type": "integer"
        },
        {
         "name": "Tenure",
         "rawType": "int64",
         "type": "integer"
        },
        {
         "name": "Churn",
         "rawType": "object",
         "type": "string"
        },
        {
         "name": "Age",
         "rawType": "int64",
         "type": "integer"
        },
        {
         "name": "Under 30",
         "rawType": "object",
         "type": "string"
        },
        {
         "name": "Married",
         "rawType": "object",
         "type": "string"
        },
        {
         "name": "Number of Dependents",
         "rawType": "int64",
         "type": "integer"
        },
        {
         "name": "Location ID",
         "rawType": "object",
         "type": "string"
        },
        {
         "name": "ID",
         "rawType": "int64",
         "type": "integer"
        },
        {
         "name": "Population",
         "rawType": "object",
         "type": "string"
        },
        {
         "name": "Service ID",
         "rawType": "object",
         "type": "string"
        },
        {
         "name": "Quarter",
         "rawType": "object",
         "type": "string"
        },
        {
         "name": "Referred a Friend",
         "rawType": "object",
         "type": "string"
        },
        {
         "name": "Number of Referrals",
         "rawType": "int64",
         "type": "integer"
        },
        {
         "name": "Tenure in Months",
         "rawType": "int64",
         "type": "integer"
        },
        {
         "name": "Offer",
         "rawType": "object",
         "type": "unknown"
        },
        {
         "name": "Avg Monthly Long Distance Charges",
         "rawType": "float64",
         "type": "float"
        },
        {
         "name": "Internet Type",
         "rawType": "object",
         "type": "string"
        },
        {
         "name": "Avg Monthly GB Download",
         "rawType": "int64",
         "type": "integer"
        },
        {
         "name": "Device Protection Plan",
         "rawType": "object",
         "type": "string"
        },
        {
         "name": "Premium Tech Support",
         "rawType": "object",
         "type": "string"
        },
        {
         "name": "Streaming Music",
         "rawType": "object",
         "type": "string"
        },
        {
         "name": "Unlimited Data",
         "rawType": "object",
         "type": "string"
        },
        {
         "name": "Monthly Charge",
         "rawType": "float64",
         "type": "float"
        },
        {
         "name": "Total Refunds",
         "rawType": "float64",
         "type": "float"
        },
        {
         "name": "Total Extra Data Charges",
         "rawType": "int64",
         "type": "integer"
        },
        {
         "name": "Total Long Distance Charges",
         "rawType": "float64",
         "type": "float"
        },
        {
         "name": "Total Revenue",
         "rawType": "float64",
         "type": "float"
        },
        {
         "name": "Status ID",
         "rawType": "object",
         "type": "string"
        },
        {
         "name": "Satisfaction Score",
         "rawType": "int64",
         "type": "integer"
        },
        {
         "name": "Customer Status",
         "rawType": "object",
         "type": "string"
        },
        {
         "name": "Churn Category",
         "rawType": "object",
         "type": "string"
        }
       ],
       "ref": "99ad94bd-aa4f-4fd6-94c7-c2c30b6dbf64",
       "rows": [
        [
         "0",
         "3668-QPYBK",
         "1",
         "United States",
         "California",
         "Los Angeles",
         "90003",
         "33.964131, -118.272783",
         "33.964131",
         "-118.272783",
         "Male",
         "No",
         "No",
         "No",
         "2",
         "Yes",
         "No",
         "DSL",
         "Yes",
         "Yes",
         "No",
         "No",
         "No",
         "No",
         "Month-to-month",
         "Yes",
         "Mailed check",
         "53.85",
         "108.15",
         "Yes",
         "1",
         "86",
         "3239",
         "Competitor made better offer",
         "326527",
         "2",
         "Yes",
         "37",
         "No",
         "No",
         "0",
         "PZZUIT6837",
         "3",
         "58,198",
         "ZLZTZWPWE3351",
         "Q3",
         "No",
         "0",
         "2",
         null,
         "10.47",
         "DSL",
         "21",
         "No",
         "No",
         "No",
         "Yes",
         "53.85",
         "0.0",
         "0",
         "20.94",
         "129.09",
         "SUDNGT6444",
         "1",
         "Churned",
         "Competitor"
        ],
        [
         "1",
         "9237-HQITU",
         "1",
         "United States",
         "California",
         "Los Angeles",
         "90005",
         "34.059281, -118.30742",
         "34.059281",
         "-118.30742",
         "Female",
         "No",
         "No",
         "Yes",
         "2",
         "Yes",
         "No",
         "Fiber optic",
         "No",
         "No",
         "No",
         "No",
         "No",
         "No",
         "Month-to-month",
         "Yes",
         "Electronic check",
         "70.7",
         "151.65",
         "Yes",
         "1",
         "67",
         "2701",
         "Moved",
         "503388",
         "2",
         "Yes",
         "19",
         "Yes",
         "No",
         "2",
         "CKNALR2542",
         "5",
         "43,019",
         "GXJVSQIYH4715",
         "Q3",
         "No",
         "0",
         "2",
         null,
         "9.12",
         "Fiber Optic",
         "51",
         "No",
         "No",
         "No",
         "Yes",
         "70.7",
         "0.0",
         "0",
         "18.24",
         "169.89",
         "KZSZDV8891",
         "2",
         "Churned",
         "Other"
        ],
        [
         "2",
         "9305-CDSKC",
         "1",
         "United States",
         "California",
         "Los Angeles",
         "90006",
         "34.048013, -118.293953",
         "34.048013",
         "-118.293953",
         "Female",
         "No",
         "No",
         "Yes",
         "8",
         "Yes",
         "Yes",
         "Fiber optic",
         "No",
         "No",
         "Yes",
         "No",
         "Yes",
         "Yes",
         "Month-to-month",
         "Yes",
         "Electronic check",
         "99.65",
         "820.5",
         "Yes",
         "1",
         "86",
         "5372",
         "Moved",
         "160192",
         "8",
         "Yes",
         "31",
         "No",
         "No",
         "2",
         "VCQKYE1638",
         "6",
         "62,784",
         "KDUHHRQBI5663",
         "Q3",
         "No",
         "0",
         "8",
         null,
         "12.15",
         "Cable",
         "26",
         "Yes",
         "No",
         "Yes",
         "Yes",
         "99.65",
         "0.0",
         "0",
         "97.2",
         "917.7",
         "EPTIUU1269",
         "3",
         "Churned",
         "Other"
        ],
        [
         "3",
         "7892-POOKP",
         "1",
         "United States",
         "California",
         "Los Angeles",
         "90010",
         "34.062125, -118.315709",
         "34.062125",
         "-118.315709",
         "Female",
         "No",
         "Yes",
         "Yes",
         "28",
         "Yes",
         "Yes",
         "Fiber optic",
         "No",
         "No",
         "Yes",
         "Yes",
         "Yes",
         "Yes",
         "Month-to-month",
         "Yes",
         "Electronic check",
         "104.8",
         "3046.05",
         "Yes",
         "1",
         "84",
         "5003",
         "Moved",
         "582674",
         "28",
         "Yes",
         "23",
         "Yes",
         "Yes",
         "3",
         "SNLISG8671",
         "9",
         "1,957",
         "WXXQTNEZW3786",
         "Q3",
         "No",
         "0",
         "28",
         "Offer C",
         "4.89",
         "Fiber Optic",
         "47",
         "Yes",
         "Yes",
         "Yes",
         "Yes",
         "104.8",
         "0.0",
         "0",
         "136.92",
         "3182.97",
         "PAJIVH8196",
         "3",
         "Churned",
         "Other"
        ],
        [
         "4",
         "0280-XJGEX",
         "1",
         "United States",
         "California",
         "Los Angeles",
         "90015",
         "34.039224, -118.266293",
         "34.039224",
         "-118.266293",
         "Male",
         "No",
         "No",
         "Yes",
         "49",
         "Yes",
         "Yes",
         "Fiber optic",
         "No",
         "Yes",
         "Yes",
         "No",
         "Yes",
         "Yes",
         "Month-to-month",
         "Yes",
         "Bank transfer (automatic)",
         "103.7",
         "5036.3",
         "Yes",
         "1",
         "89",
         "5340",
         "Competitor had better devices",
         "933642",
         "49",
         "Yes",
         "38",
         "No",
         "No",
         "1",
         "YTSGZA8582",
         "14",
         "15,140",
         "LTNFDWAMC2575",
         "Q3",
         "No",
         "0",
         "49",
         null,
         "44.33",
         "Fiber Optic",
         "11",
         "Yes",
         "No",
         "Yes",
         "Yes",
         "103.7",
         "0.0",
         "0",
         "2172.17",
         "7208.47",
         "RXFOMV1173",
         "1",
         "Churned",
         "Competitor"
        ]
       ],
       "shape": {
        "columns": 65,
        "rows": 5
       }
      },
      "text/html": [
       "<div>\n",
       "<style scoped>\n",
       "    .dataframe tbody tr th:only-of-type {\n",
       "        vertical-align: middle;\n",
       "    }\n",
       "\n",
       "    .dataframe tbody tr th {\n",
       "        vertical-align: top;\n",
       "    }\n",
       "\n",
       "    .dataframe thead th {\n",
       "        text-align: right;\n",
       "    }\n",
       "</style>\n",
       "<table border=\"1\" class=\"dataframe\">\n",
       "  <thead>\n",
       "    <tr style=\"text-align: right;\">\n",
       "      <th></th>\n",
       "      <th>Customer ID</th>\n",
       "      <th>Count</th>\n",
       "      <th>Country</th>\n",
       "      <th>State</th>\n",
       "      <th>City</th>\n",
       "      <th>Zip Code</th>\n",
       "      <th>Lat Long</th>\n",
       "      <th>Latitude</th>\n",
       "      <th>Longitude</th>\n",
       "      <th>Gender</th>\n",
       "      <th>Senior Citizen</th>\n",
       "      <th>Partner</th>\n",
       "      <th>Dependents</th>\n",
       "      <th>Tenure Months</th>\n",
       "      <th>Phone Service</th>\n",
       "      <th>Multiple Lines</th>\n",
       "      <th>Internet Service</th>\n",
       "      <th>Online Security</th>\n",
       "      <th>Online Backup</th>\n",
       "      <th>Device Protection</th>\n",
       "      <th>Tech Support</th>\n",
       "      <th>Streaming TV</th>\n",
       "      <th>Streaming Movies</th>\n",
       "      <th>Contract</th>\n",
       "      <th>Paperless Billing</th>\n",
       "      <th>Payment Method</th>\n",
       "      <th>Monthly Charges</th>\n",
       "      <th>Total Charges</th>\n",
       "      <th>Churn Label</th>\n",
       "      <th>Churn Value</th>\n",
       "      <th>Churn Score</th>\n",
       "      <th>CLTV</th>\n",
       "      <th>Churn Reason</th>\n",
       "      <th>LoyaltyID</th>\n",
       "      <th>Tenure</th>\n",
       "      <th>Churn</th>\n",
       "      <th>Age</th>\n",
       "      <th>Under 30</th>\n",
       "      <th>Married</th>\n",
       "      <th>Number of Dependents</th>\n",
       "      <th>Location ID</th>\n",
       "      <th>ID</th>\n",
       "      <th>Population</th>\n",
       "      <th>Service ID</th>\n",
       "      <th>Quarter</th>\n",
       "      <th>Referred a Friend</th>\n",
       "      <th>Number of Referrals</th>\n",
       "      <th>Tenure in Months</th>\n",
       "      <th>Offer</th>\n",
       "      <th>Avg Monthly Long Distance Charges</th>\n",
       "      <th>Internet Type</th>\n",
       "      <th>Avg Monthly GB Download</th>\n",
       "      <th>Device Protection Plan</th>\n",
       "      <th>Premium Tech Support</th>\n",
       "      <th>Streaming Music</th>\n",
       "      <th>Unlimited Data</th>\n",
       "      <th>Monthly Charge</th>\n",
       "      <th>Total Refunds</th>\n",
       "      <th>Total Extra Data Charges</th>\n",
       "      <th>Total Long Distance Charges</th>\n",
       "      <th>Total Revenue</th>\n",
       "      <th>Status ID</th>\n",
       "      <th>Satisfaction Score</th>\n",
       "      <th>Customer Status</th>\n",
       "      <th>Churn Category</th>\n",
       "    </tr>\n",
       "  </thead>\n",
       "  <tbody>\n",
       "    <tr>\n",
       "      <th>0</th>\n",
       "      <td>3668-QPYBK</td>\n",
       "      <td>1</td>\n",
       "      <td>United States</td>\n",
       "      <td>California</td>\n",
       "      <td>Los Angeles</td>\n",
       "      <td>90003</td>\n",
       "      <td>33.964131, -118.272783</td>\n",
       "      <td>33.964131</td>\n",
       "      <td>-118.272783</td>\n",
       "      <td>Male</td>\n",
       "      <td>No</td>\n",
       "      <td>No</td>\n",
       "      <td>No</td>\n",
       "      <td>2</td>\n",
       "      <td>Yes</td>\n",
       "      <td>No</td>\n",
       "      <td>DSL</td>\n",
       "      <td>Yes</td>\n",
       "      <td>Yes</td>\n",
       "      <td>No</td>\n",
       "      <td>No</td>\n",
       "      <td>No</td>\n",
       "      <td>No</td>\n",
       "      <td>Month-to-month</td>\n",
       "      <td>Yes</td>\n",
       "      <td>Mailed check</td>\n",
       "      <td>53.85</td>\n",
       "      <td>108.15</td>\n",
       "      <td>Yes</td>\n",
       "      <td>1</td>\n",
       "      <td>86</td>\n",
       "      <td>3239</td>\n",
       "      <td>Competitor made better offer</td>\n",
       "      <td>326527</td>\n",
       "      <td>2</td>\n",
       "      <td>Yes</td>\n",
       "      <td>37</td>\n",
       "      <td>No</td>\n",
       "      <td>No</td>\n",
       "      <td>0</td>\n",
       "      <td>PZZUIT6837</td>\n",
       "      <td>3</td>\n",
       "      <td>58,198</td>\n",
       "      <td>ZLZTZWPWE3351</td>\n",
       "      <td>Q3</td>\n",
       "      <td>No</td>\n",
       "      <td>0</td>\n",
       "      <td>2</td>\n",
       "      <td>NaN</td>\n",
       "      <td>10.47</td>\n",
       "      <td>DSL</td>\n",
       "      <td>21</td>\n",
       "      <td>No</td>\n",
       "      <td>No</td>\n",
       "      <td>No</td>\n",
       "      <td>Yes</td>\n",
       "      <td>53.85</td>\n",
       "      <td>0.0</td>\n",
       "      <td>0</td>\n",
       "      <td>20.94</td>\n",
       "      <td>129.09</td>\n",
       "      <td>SUDNGT6444</td>\n",
       "      <td>1</td>\n",
       "      <td>Churned</td>\n",
       "      <td>Competitor</td>\n",
       "    </tr>\n",
       "    <tr>\n",
       "      <th>1</th>\n",
       "      <td>9237-HQITU</td>\n",
       "      <td>1</td>\n",
       "      <td>United States</td>\n",
       "      <td>California</td>\n",
       "      <td>Los Angeles</td>\n",
       "      <td>90005</td>\n",
       "      <td>34.059281, -118.30742</td>\n",
       "      <td>34.059281</td>\n",
       "      <td>-118.307420</td>\n",
       "      <td>Female</td>\n",
       "      <td>No</td>\n",
       "      <td>No</td>\n",
       "      <td>Yes</td>\n",
       "      <td>2</td>\n",
       "      <td>Yes</td>\n",
       "      <td>No</td>\n",
       "      <td>Fiber optic</td>\n",
       "      <td>No</td>\n",
       "      <td>No</td>\n",
       "      <td>No</td>\n",
       "      <td>No</td>\n",
       "      <td>No</td>\n",
       "      <td>No</td>\n",
       "      <td>Month-to-month</td>\n",
       "      <td>Yes</td>\n",
       "      <td>Electronic check</td>\n",
       "      <td>70.70</td>\n",
       "      <td>151.65</td>\n",
       "      <td>Yes</td>\n",
       "      <td>1</td>\n",
       "      <td>67</td>\n",
       "      <td>2701</td>\n",
       "      <td>Moved</td>\n",
       "      <td>503388</td>\n",
       "      <td>2</td>\n",
       "      <td>Yes</td>\n",
       "      <td>19</td>\n",
       "      <td>Yes</td>\n",
       "      <td>No</td>\n",
       "      <td>2</td>\n",
       "      <td>CKNALR2542</td>\n",
       "      <td>5</td>\n",
       "      <td>43,019</td>\n",
       "      <td>GXJVSQIYH4715</td>\n",
       "      <td>Q3</td>\n",
       "      <td>No</td>\n",
       "      <td>0</td>\n",
       "      <td>2</td>\n",
       "      <td>NaN</td>\n",
       "      <td>9.12</td>\n",
       "      <td>Fiber Optic</td>\n",
       "      <td>51</td>\n",
       "      <td>No</td>\n",
       "      <td>No</td>\n",
       "      <td>No</td>\n",
       "      <td>Yes</td>\n",
       "      <td>70.70</td>\n",
       "      <td>0.0</td>\n",
       "      <td>0</td>\n",
       "      <td>18.24</td>\n",
       "      <td>169.89</td>\n",
       "      <td>KZSZDV8891</td>\n",
       "      <td>2</td>\n",
       "      <td>Churned</td>\n",
       "      <td>Other</td>\n",
       "    </tr>\n",
       "    <tr>\n",
       "      <th>2</th>\n",
       "      <td>9305-CDSKC</td>\n",
       "      <td>1</td>\n",
       "      <td>United States</td>\n",
       "      <td>California</td>\n",
       "      <td>Los Angeles</td>\n",
       "      <td>90006</td>\n",
       "      <td>34.048013, -118.293953</td>\n",
       "      <td>34.048013</td>\n",
       "      <td>-118.293953</td>\n",
       "      <td>Female</td>\n",
       "      <td>No</td>\n",
       "      <td>No</td>\n",
       "      <td>Yes</td>\n",
       "      <td>8</td>\n",
       "      <td>Yes</td>\n",
       "      <td>Yes</td>\n",
       "      <td>Fiber optic</td>\n",
       "      <td>No</td>\n",
       "      <td>No</td>\n",
       "      <td>Yes</td>\n",
       "      <td>No</td>\n",
       "      <td>Yes</td>\n",
       "      <td>Yes</td>\n",
       "      <td>Month-to-month</td>\n",
       "      <td>Yes</td>\n",
       "      <td>Electronic check</td>\n",
       "      <td>99.65</td>\n",
       "      <td>820.5</td>\n",
       "      <td>Yes</td>\n",
       "      <td>1</td>\n",
       "      <td>86</td>\n",
       "      <td>5372</td>\n",
       "      <td>Moved</td>\n",
       "      <td>160192</td>\n",
       "      <td>8</td>\n",
       "      <td>Yes</td>\n",
       "      <td>31</td>\n",
       "      <td>No</td>\n",
       "      <td>No</td>\n",
       "      <td>2</td>\n",
       "      <td>VCQKYE1638</td>\n",
       "      <td>6</td>\n",
       "      <td>62,784</td>\n",
       "      <td>KDUHHRQBI5663</td>\n",
       "      <td>Q3</td>\n",
       "      <td>No</td>\n",
       "      <td>0</td>\n",
       "      <td>8</td>\n",
       "      <td>NaN</td>\n",
       "      <td>12.15</td>\n",
       "      <td>Cable</td>\n",
       "      <td>26</td>\n",
       "      <td>Yes</td>\n",
       "      <td>No</td>\n",
       "      <td>Yes</td>\n",
       "      <td>Yes</td>\n",
       "      <td>99.65</td>\n",
       "      <td>0.0</td>\n",
       "      <td>0</td>\n",
       "      <td>97.20</td>\n",
       "      <td>917.70</td>\n",
       "      <td>EPTIUU1269</td>\n",
       "      <td>3</td>\n",
       "      <td>Churned</td>\n",
       "      <td>Other</td>\n",
       "    </tr>\n",
       "    <tr>\n",
       "      <th>3</th>\n",
       "      <td>7892-POOKP</td>\n",
       "      <td>1</td>\n",
       "      <td>United States</td>\n",
       "      <td>California</td>\n",
       "      <td>Los Angeles</td>\n",
       "      <td>90010</td>\n",
       "      <td>34.062125, -118.315709</td>\n",
       "      <td>34.062125</td>\n",
       "      <td>-118.315709</td>\n",
       "      <td>Female</td>\n",
       "      <td>No</td>\n",
       "      <td>Yes</td>\n",
       "      <td>Yes</td>\n",
       "      <td>28</td>\n",
       "      <td>Yes</td>\n",
       "      <td>Yes</td>\n",
       "      <td>Fiber optic</td>\n",
       "      <td>No</td>\n",
       "      <td>No</td>\n",
       "      <td>Yes</td>\n",
       "      <td>Yes</td>\n",
       "      <td>Yes</td>\n",
       "      <td>Yes</td>\n",
       "      <td>Month-to-month</td>\n",
       "      <td>Yes</td>\n",
       "      <td>Electronic check</td>\n",
       "      <td>104.80</td>\n",
       "      <td>3046.05</td>\n",
       "      <td>Yes</td>\n",
       "      <td>1</td>\n",
       "      <td>84</td>\n",
       "      <td>5003</td>\n",
       "      <td>Moved</td>\n",
       "      <td>582674</td>\n",
       "      <td>28</td>\n",
       "      <td>Yes</td>\n",
       "      <td>23</td>\n",
       "      <td>Yes</td>\n",
       "      <td>Yes</td>\n",
       "      <td>3</td>\n",
       "      <td>SNLISG8671</td>\n",
       "      <td>9</td>\n",
       "      <td>1,957</td>\n",
       "      <td>WXXQTNEZW3786</td>\n",
       "      <td>Q3</td>\n",
       "      <td>No</td>\n",
       "      <td>0</td>\n",
       "      <td>28</td>\n",
       "      <td>Offer C</td>\n",
       "      <td>4.89</td>\n",
       "      <td>Fiber Optic</td>\n",
       "      <td>47</td>\n",
       "      <td>Yes</td>\n",
       "      <td>Yes</td>\n",
       "      <td>Yes</td>\n",
       "      <td>Yes</td>\n",
       "      <td>104.80</td>\n",
       "      <td>0.0</td>\n",
       "      <td>0</td>\n",
       "      <td>136.92</td>\n",
       "      <td>3182.97</td>\n",
       "      <td>PAJIVH8196</td>\n",
       "      <td>3</td>\n",
       "      <td>Churned</td>\n",
       "      <td>Other</td>\n",
       "    </tr>\n",
       "    <tr>\n",
       "      <th>4</th>\n",
       "      <td>0280-XJGEX</td>\n",
       "      <td>1</td>\n",
       "      <td>United States</td>\n",
       "      <td>California</td>\n",
       "      <td>Los Angeles</td>\n",
       "      <td>90015</td>\n",
       "      <td>34.039224, -118.266293</td>\n",
       "      <td>34.039224</td>\n",
       "      <td>-118.266293</td>\n",
       "      <td>Male</td>\n",
       "      <td>No</td>\n",
       "      <td>No</td>\n",
       "      <td>Yes</td>\n",
       "      <td>49</td>\n",
       "      <td>Yes</td>\n",
       "      <td>Yes</td>\n",
       "      <td>Fiber optic</td>\n",
       "      <td>No</td>\n",
       "      <td>Yes</td>\n",
       "      <td>Yes</td>\n",
       "      <td>No</td>\n",
       "      <td>Yes</td>\n",
       "      <td>Yes</td>\n",
       "      <td>Month-to-month</td>\n",
       "      <td>Yes</td>\n",
       "      <td>Bank transfer (automatic)</td>\n",
       "      <td>103.70</td>\n",
       "      <td>5036.3</td>\n",
       "      <td>Yes</td>\n",
       "      <td>1</td>\n",
       "      <td>89</td>\n",
       "      <td>5340</td>\n",
       "      <td>Competitor had better devices</td>\n",
       "      <td>933642</td>\n",
       "      <td>49</td>\n",
       "      <td>Yes</td>\n",
       "      <td>38</td>\n",
       "      <td>No</td>\n",
       "      <td>No</td>\n",
       "      <td>1</td>\n",
       "      <td>YTSGZA8582</td>\n",
       "      <td>14</td>\n",
       "      <td>15,140</td>\n",
       "      <td>LTNFDWAMC2575</td>\n",
       "      <td>Q3</td>\n",
       "      <td>No</td>\n",
       "      <td>0</td>\n",
       "      <td>49</td>\n",
       "      <td>NaN</td>\n",
       "      <td>44.33</td>\n",
       "      <td>Fiber Optic</td>\n",
       "      <td>11</td>\n",
       "      <td>Yes</td>\n",
       "      <td>No</td>\n",
       "      <td>Yes</td>\n",
       "      <td>Yes</td>\n",
       "      <td>103.70</td>\n",
       "      <td>0.0</td>\n",
       "      <td>0</td>\n",
       "      <td>2172.17</td>\n",
       "      <td>7208.47</td>\n",
       "      <td>RXFOMV1173</td>\n",
       "      <td>1</td>\n",
       "      <td>Churned</td>\n",
       "      <td>Competitor</td>\n",
       "    </tr>\n",
       "  </tbody>\n",
       "</table>\n",
       "</div>"
      ],
      "text/plain": [
       "  Customer ID  Count        Country       State         City  Zip Code  \\\n",
       "0  3668-QPYBK      1  United States  California  Los Angeles     90003   \n",
       "1  9237-HQITU      1  United States  California  Los Angeles     90005   \n",
       "2  9305-CDSKC      1  United States  California  Los Angeles     90006   \n",
       "3  7892-POOKP      1  United States  California  Los Angeles     90010   \n",
       "4  0280-XJGEX      1  United States  California  Los Angeles     90015   \n",
       "\n",
       "                 Lat Long   Latitude   Longitude  Gender Senior Citizen  \\\n",
       "0  33.964131, -118.272783  33.964131 -118.272783    Male             No   \n",
       "1   34.059281, -118.30742  34.059281 -118.307420  Female             No   \n",
       "2  34.048013, -118.293953  34.048013 -118.293953  Female             No   \n",
       "3  34.062125, -118.315709  34.062125 -118.315709  Female             No   \n",
       "4  34.039224, -118.266293  34.039224 -118.266293    Male             No   \n",
       "\n",
       "  Partner Dependents  Tenure Months Phone Service Multiple Lines  \\\n",
       "0      No         No              2           Yes             No   \n",
       "1      No        Yes              2           Yes             No   \n",
       "2      No        Yes              8           Yes            Yes   \n",
       "3     Yes        Yes             28           Yes            Yes   \n",
       "4      No        Yes             49           Yes            Yes   \n",
       "\n",
       "  Internet Service Online Security Online Backup Device Protection  \\\n",
       "0              DSL             Yes           Yes                No   \n",
       "1      Fiber optic              No            No                No   \n",
       "2      Fiber optic              No            No               Yes   \n",
       "3      Fiber optic              No            No               Yes   \n",
       "4      Fiber optic              No           Yes               Yes   \n",
       "\n",
       "  Tech Support Streaming TV Streaming Movies        Contract  \\\n",
       "0           No           No               No  Month-to-month   \n",
       "1           No           No               No  Month-to-month   \n",
       "2           No          Yes              Yes  Month-to-month   \n",
       "3          Yes          Yes              Yes  Month-to-month   \n",
       "4           No          Yes              Yes  Month-to-month   \n",
       "\n",
       "  Paperless Billing             Payment Method  Monthly Charges Total Charges  \\\n",
       "0               Yes               Mailed check            53.85        108.15   \n",
       "1               Yes           Electronic check            70.70        151.65   \n",
       "2               Yes           Electronic check            99.65         820.5   \n",
       "3               Yes           Electronic check           104.80       3046.05   \n",
       "4               Yes  Bank transfer (automatic)           103.70        5036.3   \n",
       "\n",
       "  Churn Label  Churn Value  Churn Score  CLTV                   Churn Reason  \\\n",
       "0         Yes            1           86  3239   Competitor made better offer   \n",
       "1         Yes            1           67  2701                          Moved   \n",
       "2         Yes            1           86  5372                          Moved   \n",
       "3         Yes            1           84  5003                          Moved   \n",
       "4         Yes            1           89  5340  Competitor had better devices   \n",
       "\n",
       "   LoyaltyID  Tenure Churn  Age Under 30 Married  Number of Dependents  \\\n",
       "0     326527       2   Yes   37       No      No                     0   \n",
       "1     503388       2   Yes   19      Yes      No                     2   \n",
       "2     160192       8   Yes   31       No      No                     2   \n",
       "3     582674      28   Yes   23      Yes     Yes                     3   \n",
       "4     933642      49   Yes   38       No      No                     1   \n",
       "\n",
       "  Location ID  ID Population     Service ID Quarter Referred a Friend  \\\n",
       "0  PZZUIT6837   3     58,198  ZLZTZWPWE3351      Q3                No   \n",
       "1  CKNALR2542   5     43,019  GXJVSQIYH4715      Q3                No   \n",
       "2  VCQKYE1638   6     62,784  KDUHHRQBI5663      Q3                No   \n",
       "3  SNLISG8671   9      1,957  WXXQTNEZW3786      Q3                No   \n",
       "4  YTSGZA8582  14     15,140  LTNFDWAMC2575      Q3                No   \n",
       "\n",
       "   Number of Referrals  Tenure in Months    Offer  \\\n",
       "0                    0                 2      NaN   \n",
       "1                    0                 2      NaN   \n",
       "2                    0                 8      NaN   \n",
       "3                    0                28  Offer C   \n",
       "4                    0                49      NaN   \n",
       "\n",
       "   Avg Monthly Long Distance Charges Internet Type  Avg Monthly GB Download  \\\n",
       "0                              10.47           DSL                       21   \n",
       "1                               9.12   Fiber Optic                       51   \n",
       "2                              12.15         Cable                       26   \n",
       "3                               4.89   Fiber Optic                       47   \n",
       "4                              44.33   Fiber Optic                       11   \n",
       "\n",
       "  Device Protection Plan Premium Tech Support Streaming Music Unlimited Data  \\\n",
       "0                     No                   No              No            Yes   \n",
       "1                     No                   No              No            Yes   \n",
       "2                    Yes                   No             Yes            Yes   \n",
       "3                    Yes                  Yes             Yes            Yes   \n",
       "4                    Yes                   No             Yes            Yes   \n",
       "\n",
       "   Monthly Charge  Total Refunds  Total Extra Data Charges  \\\n",
       "0           53.85            0.0                         0   \n",
       "1           70.70            0.0                         0   \n",
       "2           99.65            0.0                         0   \n",
       "3          104.80            0.0                         0   \n",
       "4          103.70            0.0                         0   \n",
       "\n",
       "   Total Long Distance Charges  Total Revenue   Status ID  Satisfaction Score  \\\n",
       "0                        20.94         129.09  SUDNGT6444                   1   \n",
       "1                        18.24         169.89  KZSZDV8891                   2   \n",
       "2                        97.20         917.70  EPTIUU1269                   3   \n",
       "3                       136.92        3182.97  PAJIVH8196                   3   \n",
       "4                      2172.17        7208.47  RXFOMV1173                   1   \n",
       "\n",
       "  Customer Status Churn Category  \n",
       "0         Churned     Competitor  \n",
       "1         Churned          Other  \n",
       "2         Churned          Other  \n",
       "3         Churned          Other  \n",
       "4         Churned     Competitor  "
      ]
     },
     "execution_count": 3,
     "metadata": {},
     "output_type": "execute_result"
    }
   ],
   "source": [
    "df = pd.read_csv('data/Telecom_Customer_Churn.csv', header=0, index_col=0)\n",
    "df.head()"
   ]
  },
  {
   "cell_type": "code",
   "execution_count": 4,
   "id": "68a2cf39",
   "metadata": {},
   "outputs": [
    {
     "name": "stdout",
     "output_type": "stream",
     "text": [
      "<class 'pandas.core.frame.DataFrame'>\n",
      "Index: 7043 entries, 0 to 7042\n",
      "Data columns (total 65 columns):\n",
      " #   Column                             Non-Null Count  Dtype  \n",
      "---  ------                             --------------  -----  \n",
      " 0   Customer ID                        7043 non-null   object \n",
      " 1   Count                              7043 non-null   int64  \n",
      " 2   Country                            7043 non-null   object \n",
      " 3   State                              7043 non-null   object \n",
      " 4   City                               7043 non-null   object \n",
      " 5   Zip Code                           7043 non-null   int64  \n",
      " 6   Lat Long                           7043 non-null   object \n",
      " 7   Latitude                           7043 non-null   float64\n",
      " 8   Longitude                          7043 non-null   float64\n",
      " 9   Gender                             7043 non-null   object \n",
      " 10  Senior Citizen                     7043 non-null   object \n",
      " 11  Partner                            7043 non-null   object \n",
      " 12  Dependents                         7043 non-null   object \n",
      " 13  Tenure Months                      7043 non-null   int64  \n",
      " 14  Phone Service                      7043 non-null   object \n",
      " 15  Multiple Lines                     7043 non-null   object \n",
      " 16  Internet Service                   7043 non-null   object \n",
      " 17  Online Security                    7043 non-null   object \n",
      " 18  Online Backup                      7043 non-null   object \n",
      " 19  Device Protection                  7043 non-null   object \n",
      " 20  Tech Support                       7043 non-null   object \n",
      " 21  Streaming TV                       7043 non-null   object \n",
      " 22  Streaming Movies                   7043 non-null   object \n",
      " 23  Contract                           7043 non-null   object \n",
      " 24  Paperless Billing                  7043 non-null   object \n",
      " 25  Payment Method                     7043 non-null   object \n",
      " 26  Monthly Charges                    7043 non-null   float64\n",
      " 27  Total Charges                      7043 non-null   object \n",
      " 28  Churn Label                        7043 non-null   object \n",
      " 29  Churn Value                        7043 non-null   int64  \n",
      " 30  Churn Score                        7043 non-null   int64  \n",
      " 31  CLTV                               7043 non-null   int64  \n",
      " 32  Churn Reason                       1869 non-null   object \n",
      " 33  LoyaltyID                          7043 non-null   int64  \n",
      " 34  Tenure                             7043 non-null   int64  \n",
      " 35  Churn                              7043 non-null   object \n",
      " 36  Age                                7043 non-null   int64  \n",
      " 37  Under 30                           7043 non-null   object \n",
      " 38  Married                            7043 non-null   object \n",
      " 39  Number of Dependents               7043 non-null   int64  \n",
      " 40  Location ID                        7043 non-null   object \n",
      " 41  ID                                 7043 non-null   int64  \n",
      " 42  Population                         7043 non-null   object \n",
      " 43  Service ID                         7043 non-null   object \n",
      " 44  Quarter                            7043 non-null   object \n",
      " 45  Referred a Friend                  7043 non-null   object \n",
      " 46  Number of Referrals                7043 non-null   int64  \n",
      " 47  Tenure in Months                   7043 non-null   int64  \n",
      " 48  Offer                              3166 non-null   object \n",
      " 49  Avg Monthly Long Distance Charges  7043 non-null   float64\n",
      " 50  Internet Type                      5517 non-null   object \n",
      " 51  Avg Monthly GB Download            7043 non-null   int64  \n",
      " 52  Device Protection Plan             7043 non-null   object \n",
      " 53  Premium Tech Support               7043 non-null   object \n",
      " 54  Streaming Music                    7043 non-null   object \n",
      " 55  Unlimited Data                     7043 non-null   object \n",
      " 56  Monthly Charge                     7043 non-null   float64\n",
      " 57  Total Refunds                      7043 non-null   float64\n",
      " 58  Total Extra Data Charges           7043 non-null   int64  \n",
      " 59  Total Long Distance Charges        7043 non-null   float64\n",
      " 60  Total Revenue                      7043 non-null   float64\n",
      " 61  Status ID                          7043 non-null   object \n",
      " 62  Satisfaction Score                 7043 non-null   int64  \n",
      " 63  Customer Status                    7043 non-null   object \n",
      " 64  Churn Category                     1869 non-null   object \n",
      "dtypes: float64(8), int64(16), object(41)\n",
      "memory usage: 3.5+ MB\n"
     ]
    }
   ],
   "source": [
    "df.info()"
   ]
  },
  {
   "cell_type": "markdown",
   "id": "f1559dd3",
   "metadata": {},
   "source": [
    "## Data Processing"
   ]
  },
  {
   "cell_type": "markdown",
   "id": "81021a0a",
   "metadata": {},
   "source": [
    "From the .info() output we can state the resulting dataset is consistent (7043 values in total) and, nearly, without NULL values.\n",
    "Only few columns present some NULL values:\n",
    "- *Offer*\n",
    "- *Churn Reason*\n",
    "- *Internet Type*\n",
    "- *Churn Category*\n",
    "\n",
    "For this columns must be evaluated ow to deal with the missing values and how to impute them, if necessary"
   ]
  },
  {
   "cell_type": "markdown",
   "id": "45f32711",
   "metadata": {},
   "source": [
    "For the column *Offer* can be set the missing values as **None** ince the customer can or cannot have used an offer"
   ]
  },
  {
   "cell_type": "code",
   "execution_count": 5,
   "id": "b67ece39",
   "metadata": {},
   "outputs": [],
   "source": [
    "df['Offer'].fillna('None', inplace=True)"
   ]
  },
  {
   "cell_type": "markdown",
   "id": "2f2644c8",
   "metadata": {},
   "source": [
    "Internet Type column is very similar to Internet Service column, so it can be used to fill the missing values or can be considered to be droped"
   ]
  },
  {
   "cell_type": "code",
   "execution_count": 6,
   "id": "1c9966bd",
   "metadata": {},
   "outputs": [
    {
     "data": {
      "application/vnd.microsoft.datawrangler.viewer.v0+json": {
       "columns": [
        {
         "name": "index",
         "rawType": "int64",
         "type": "integer"
        },
        {
         "name": "Internet Service",
         "rawType": "object",
         "type": "string"
        },
        {
         "name": "Internet Type",
         "rawType": "object",
         "type": "unknown"
        }
       ],
       "ref": "e9909ea3-aba3-46b5-b8d4-2bc6f5454edc",
       "rows": [
        [
         "0",
         "DSL",
         "DSL"
        ],
        [
         "1",
         "Fiber optic",
         "Fiber Optic"
        ],
        [
         "2",
         "Fiber optic",
         "Cable"
        ],
        [
         "3",
         "Fiber optic",
         "Fiber Optic"
        ],
        [
         "4",
         "Fiber optic",
         "Fiber Optic"
        ],
        [
         "5",
         "DSL",
         "Cable"
        ],
        [
         "6",
         "DSL",
         "DSL"
        ],
        [
         "7",
         "No",
         null
        ],
        [
         "8",
         "Fiber optic",
         "Fiber Optic"
        ],
        [
         "9",
         "DSL",
         "DSL"
        ],
        [
         "10",
         "DSL",
         "Cable"
        ],
        [
         "11",
         "Fiber optic",
         "Fiber Optic"
        ],
        [
         "12",
         "Fiber optic",
         "Fiber Optic"
        ],
        [
         "13",
         "Fiber optic",
         "Cable"
        ],
        [
         "14",
         "Fiber optic",
         "Fiber Optic"
        ],
        [
         "15",
         "Fiber optic",
         "Fiber Optic"
        ],
        [
         "16",
         "Fiber optic",
         "Fiber Optic"
        ],
        [
         "17",
         "Fiber optic",
         "Fiber Optic"
        ],
        [
         "18",
         "Fiber optic",
         "Fiber Optic"
        ],
        [
         "19",
         "Fiber optic",
         "Fiber Optic"
        ],
        [
         "20",
         "Fiber optic",
         "Fiber Optic"
        ],
        [
         "21",
         "Fiber optic",
         "Fiber Optic"
        ],
        [
         "22",
         "No",
         null
        ],
        [
         "23",
         "Fiber optic",
         "Fiber Optic"
        ],
        [
         "24",
         "Fiber optic",
         "Fiber Optic"
        ],
        [
         "25",
         "Fiber optic",
         "Fiber Optic"
        ],
        [
         "26",
         "Fiber optic",
         "Fiber Optic"
        ],
        [
         "27",
         "Fiber optic",
         "Fiber Optic"
        ],
        [
         "28",
         "Fiber optic",
         "Fiber Optic"
        ],
        [
         "29",
         "Fiber optic",
         "Fiber Optic"
        ],
        [
         "30",
         "DSL",
         "DSL"
        ],
        [
         "31",
         "DSL",
         "DSL"
        ],
        [
         "32",
         "DSL",
         "DSL"
        ],
        [
         "33",
         "Fiber optic",
         "Fiber Optic"
        ],
        [
         "34",
         "DSL",
         "DSL"
        ],
        [
         "35",
         "DSL",
         "Cable"
        ],
        [
         "36",
         "Fiber optic",
         "Cable"
        ],
        [
         "37",
         "Fiber optic",
         "Fiber Optic"
        ],
        [
         "38",
         "Fiber optic",
         "Fiber Optic"
        ],
        [
         "39",
         "DSL",
         "DSL"
        ],
        [
         "40",
         "Fiber optic",
         "Fiber Optic"
        ],
        [
         "41",
         "Fiber optic",
         "Fiber Optic"
        ],
        [
         "42",
         "Fiber optic",
         "Fiber Optic"
        ],
        [
         "43",
         "Fiber optic",
         "Fiber Optic"
        ],
        [
         "44",
         "DSL",
         "DSL"
        ],
        [
         "45",
         "Fiber optic",
         "Fiber Optic"
        ],
        [
         "46",
         "Fiber optic",
         "Fiber Optic"
        ],
        [
         "47",
         "DSL",
         "DSL"
        ],
        [
         "48",
         "Fiber optic",
         "Fiber Optic"
        ],
        [
         "49",
         "Fiber optic",
         "Fiber Optic"
        ]
       ],
       "shape": {
        "columns": 2,
        "rows": 7043
       }
      },
      "text/html": [
       "<div>\n",
       "<style scoped>\n",
       "    .dataframe tbody tr th:only-of-type {\n",
       "        vertical-align: middle;\n",
       "    }\n",
       "\n",
       "    .dataframe tbody tr th {\n",
       "        vertical-align: top;\n",
       "    }\n",
       "\n",
       "    .dataframe thead th {\n",
       "        text-align: right;\n",
       "    }\n",
       "</style>\n",
       "<table border=\"1\" class=\"dataframe\">\n",
       "  <thead>\n",
       "    <tr style=\"text-align: right;\">\n",
       "      <th></th>\n",
       "      <th>Internet Service</th>\n",
       "      <th>Internet Type</th>\n",
       "    </tr>\n",
       "  </thead>\n",
       "  <tbody>\n",
       "    <tr>\n",
       "      <th>0</th>\n",
       "      <td>DSL</td>\n",
       "      <td>DSL</td>\n",
       "    </tr>\n",
       "    <tr>\n",
       "      <th>1</th>\n",
       "      <td>Fiber optic</td>\n",
       "      <td>Fiber Optic</td>\n",
       "    </tr>\n",
       "    <tr>\n",
       "      <th>2</th>\n",
       "      <td>Fiber optic</td>\n",
       "      <td>Cable</td>\n",
       "    </tr>\n",
       "    <tr>\n",
       "      <th>3</th>\n",
       "      <td>Fiber optic</td>\n",
       "      <td>Fiber Optic</td>\n",
       "    </tr>\n",
       "    <tr>\n",
       "      <th>4</th>\n",
       "      <td>Fiber optic</td>\n",
       "      <td>Fiber Optic</td>\n",
       "    </tr>\n",
       "    <tr>\n",
       "      <th>...</th>\n",
       "      <td>...</td>\n",
       "      <td>...</td>\n",
       "    </tr>\n",
       "    <tr>\n",
       "      <th>7038</th>\n",
       "      <td>No</td>\n",
       "      <td>NaN</td>\n",
       "    </tr>\n",
       "    <tr>\n",
       "      <th>7039</th>\n",
       "      <td>DSL</td>\n",
       "      <td>Cable</td>\n",
       "    </tr>\n",
       "    <tr>\n",
       "      <th>7040</th>\n",
       "      <td>Fiber optic</td>\n",
       "      <td>Fiber Optic</td>\n",
       "    </tr>\n",
       "    <tr>\n",
       "      <th>7041</th>\n",
       "      <td>DSL</td>\n",
       "      <td>DSL</td>\n",
       "    </tr>\n",
       "    <tr>\n",
       "      <th>7042</th>\n",
       "      <td>Fiber optic</td>\n",
       "      <td>Fiber Optic</td>\n",
       "    </tr>\n",
       "  </tbody>\n",
       "</table>\n",
       "<p>7043 rows × 2 columns</p>\n",
       "</div>"
      ],
      "text/plain": [
       "     Internet Service Internet Type\n",
       "0                 DSL           DSL\n",
       "1         Fiber optic   Fiber Optic\n",
       "2         Fiber optic         Cable\n",
       "3         Fiber optic   Fiber Optic\n",
       "4         Fiber optic   Fiber Optic\n",
       "...               ...           ...\n",
       "7038               No           NaN\n",
       "7039              DSL         Cable\n",
       "7040      Fiber optic   Fiber Optic\n",
       "7041              DSL           DSL\n",
       "7042      Fiber optic   Fiber Optic\n",
       "\n",
       "[7043 rows x 2 columns]"
      ]
     },
     "execution_count": 6,
     "metadata": {},
     "output_type": "execute_result"
    }
   ],
   "source": [
    "df[['Internet Service', 'Internet Type']]"
   ]
  },
  {
   "cell_type": "markdown",
   "id": "c01060d2",
   "metadata": {},
   "source": [
    "From the code Below can be observed that when *Churn Category* is **NULL** also *Churn Reason* is **NULL**. \n",
    "By combining this with the values in the column *Churn* cn be seen that this happen whenever the customer doeasn't churn from the company, so the missing values can be resolved by replacing the missing value with a new placeholder like \"Note Churned\"."
   ]
  },
  {
   "cell_type": "code",
   "execution_count": 7,
   "id": "8ba1fb1e",
   "metadata": {},
   "outputs": [
    {
     "data": {
      "application/vnd.microsoft.datawrangler.viewer.v0+json": {
       "columns": [
        {
         "name": "index",
         "rawType": "int64",
         "type": "integer"
        },
        {
         "name": "Churn",
         "rawType": "object",
         "type": "string"
        },
        {
         "name": "Churn Category",
         "rawType": "object",
         "type": "unknown"
        },
        {
         "name": "Churn Reason",
         "rawType": "object",
         "type": "unknown"
        }
       ],
       "ref": "c538ed22-512a-44f4-a949-d057b86827b0",
       "rows": [
        [
         "1869",
         "No",
         null,
         null
        ],
        [
         "1870",
         "No",
         null,
         null
        ],
        [
         "1871",
         "No",
         null,
         null
        ],
        [
         "1872",
         "No",
         null,
         null
        ],
        [
         "1873",
         "No",
         null,
         null
        ],
        [
         "1874",
         "No",
         null,
         null
        ],
        [
         "1875",
         "No",
         null,
         null
        ],
        [
         "1876",
         "No",
         null,
         null
        ],
        [
         "1877",
         "No",
         null,
         null
        ],
        [
         "1878",
         "No",
         null,
         null
        ],
        [
         "1879",
         "No",
         null,
         null
        ],
        [
         "1880",
         "No",
         null,
         null
        ],
        [
         "1881",
         "No",
         null,
         null
        ],
        [
         "1882",
         "No",
         null,
         null
        ],
        [
         "1883",
         "No",
         null,
         null
        ],
        [
         "1884",
         "No",
         null,
         null
        ],
        [
         "1885",
         "No",
         null,
         null
        ],
        [
         "1886",
         "No",
         null,
         null
        ],
        [
         "1887",
         "No",
         null,
         null
        ],
        [
         "1888",
         "No",
         null,
         null
        ],
        [
         "1889",
         "No",
         null,
         null
        ],
        [
         "1890",
         "No",
         null,
         null
        ],
        [
         "1891",
         "No",
         null,
         null
        ],
        [
         "1892",
         "No",
         null,
         null
        ],
        [
         "1893",
         "No",
         null,
         null
        ],
        [
         "1894",
         "No",
         null,
         null
        ],
        [
         "1895",
         "No",
         null,
         null
        ],
        [
         "1896",
         "No",
         null,
         null
        ],
        [
         "1897",
         "No",
         null,
         null
        ],
        [
         "1898",
         "No",
         null,
         null
        ],
        [
         "1899",
         "No",
         null,
         null
        ],
        [
         "1900",
         "No",
         null,
         null
        ],
        [
         "1901",
         "No",
         null,
         null
        ],
        [
         "1902",
         "No",
         null,
         null
        ],
        [
         "1903",
         "No",
         null,
         null
        ],
        [
         "1904",
         "No",
         null,
         null
        ],
        [
         "1905",
         "No",
         null,
         null
        ],
        [
         "1906",
         "No",
         null,
         null
        ],
        [
         "1907",
         "No",
         null,
         null
        ],
        [
         "1908",
         "No",
         null,
         null
        ],
        [
         "1909",
         "No",
         null,
         null
        ],
        [
         "1910",
         "No",
         null,
         null
        ],
        [
         "1911",
         "No",
         null,
         null
        ],
        [
         "1912",
         "No",
         null,
         null
        ],
        [
         "1913",
         "No",
         null,
         null
        ],
        [
         "1914",
         "No",
         null,
         null
        ],
        [
         "1915",
         "No",
         null,
         null
        ],
        [
         "1916",
         "No",
         null,
         null
        ],
        [
         "1917",
         "No",
         null,
         null
        ],
        [
         "1918",
         "No",
         null,
         null
        ]
       ],
       "shape": {
        "columns": 3,
        "rows": 5174
       }
      },
      "text/html": [
       "<div>\n",
       "<style scoped>\n",
       "    .dataframe tbody tr th:only-of-type {\n",
       "        vertical-align: middle;\n",
       "    }\n",
       "\n",
       "    .dataframe tbody tr th {\n",
       "        vertical-align: top;\n",
       "    }\n",
       "\n",
       "    .dataframe thead th {\n",
       "        text-align: right;\n",
       "    }\n",
       "</style>\n",
       "<table border=\"1\" class=\"dataframe\">\n",
       "  <thead>\n",
       "    <tr style=\"text-align: right;\">\n",
       "      <th></th>\n",
       "      <th>Churn</th>\n",
       "      <th>Churn Category</th>\n",
       "      <th>Churn Reason</th>\n",
       "    </tr>\n",
       "  </thead>\n",
       "  <tbody>\n",
       "    <tr>\n",
       "      <th>1869</th>\n",
       "      <td>No</td>\n",
       "      <td>NaN</td>\n",
       "      <td>NaN</td>\n",
       "    </tr>\n",
       "    <tr>\n",
       "      <th>1870</th>\n",
       "      <td>No</td>\n",
       "      <td>NaN</td>\n",
       "      <td>NaN</td>\n",
       "    </tr>\n",
       "    <tr>\n",
       "      <th>1871</th>\n",
       "      <td>No</td>\n",
       "      <td>NaN</td>\n",
       "      <td>NaN</td>\n",
       "    </tr>\n",
       "    <tr>\n",
       "      <th>1872</th>\n",
       "      <td>No</td>\n",
       "      <td>NaN</td>\n",
       "      <td>NaN</td>\n",
       "    </tr>\n",
       "    <tr>\n",
       "      <th>1873</th>\n",
       "      <td>No</td>\n",
       "      <td>NaN</td>\n",
       "      <td>NaN</td>\n",
       "    </tr>\n",
       "    <tr>\n",
       "      <th>...</th>\n",
       "      <td>...</td>\n",
       "      <td>...</td>\n",
       "      <td>...</td>\n",
       "    </tr>\n",
       "    <tr>\n",
       "      <th>7038</th>\n",
       "      <td>No</td>\n",
       "      <td>NaN</td>\n",
       "      <td>NaN</td>\n",
       "    </tr>\n",
       "    <tr>\n",
       "      <th>7039</th>\n",
       "      <td>No</td>\n",
       "      <td>NaN</td>\n",
       "      <td>NaN</td>\n",
       "    </tr>\n",
       "    <tr>\n",
       "      <th>7040</th>\n",
       "      <td>No</td>\n",
       "      <td>NaN</td>\n",
       "      <td>NaN</td>\n",
       "    </tr>\n",
       "    <tr>\n",
       "      <th>7041</th>\n",
       "      <td>No</td>\n",
       "      <td>NaN</td>\n",
       "      <td>NaN</td>\n",
       "    </tr>\n",
       "    <tr>\n",
       "      <th>7042</th>\n",
       "      <td>No</td>\n",
       "      <td>NaN</td>\n",
       "      <td>NaN</td>\n",
       "    </tr>\n",
       "  </tbody>\n",
       "</table>\n",
       "<p>5174 rows × 3 columns</p>\n",
       "</div>"
      ],
      "text/plain": [
       "     Churn Churn Category Churn Reason\n",
       "1869    No            NaN          NaN\n",
       "1870    No            NaN          NaN\n",
       "1871    No            NaN          NaN\n",
       "1872    No            NaN          NaN\n",
       "1873    No            NaN          NaN\n",
       "...    ...            ...          ...\n",
       "7038    No            NaN          NaN\n",
       "7039    No            NaN          NaN\n",
       "7040    No            NaN          NaN\n",
       "7041    No            NaN          NaN\n",
       "7042    No            NaN          NaN\n",
       "\n",
       "[5174 rows x 3 columns]"
      ]
     },
     "execution_count": 7,
     "metadata": {},
     "output_type": "execute_result"
    }
   ],
   "source": [
    "df[['Churn','Churn Category', 'Churn Reason']].loc[(df['Churn Category'].isnull())]"
   ]
  },
  {
   "cell_type": "code",
   "execution_count": 8,
   "id": "65296bd6",
   "metadata": {},
   "outputs": [
    {
     "data": {
      "application/vnd.microsoft.datawrangler.viewer.v0+json": {
       "columns": [
        {
         "name": "index",
         "rawType": "int64",
         "type": "integer"
        },
        {
         "name": "Churn Reason",
         "rawType": "object",
         "type": "unknown"
        }
       ],
       "ref": "3ffd0808-d177-47f5-9a7d-12f54615260a",
       "rows": [
        [
         "0",
         "Competitor made better offer"
        ],
        [
         "1",
         "Moved"
        ],
        [
         "2",
         "Moved"
        ],
        [
         "3",
         "Moved"
        ],
        [
         "4",
         "Competitor had better devices"
        ],
        [
         "5",
         "Competitor offered higher download speeds"
        ],
        [
         "6",
         "Competitor offered more data"
        ],
        [
         "7",
         "Competitor made better offer"
        ],
        [
         "8",
         "Competitor had better devices"
        ],
        [
         "9",
         "Competitor had better devices"
        ],
        [
         "10",
         "Competitor offered higher download speeds"
        ],
        [
         "11",
         "Competitor offered higher download speeds"
        ],
        [
         "12",
         "Competitor offered higher download speeds"
        ],
        [
         "13",
         "Competitor offered more data"
        ],
        [
         "14",
         "Competitor offered more data"
        ],
        [
         "15",
         "Competitor offered more data"
        ],
        [
         "16",
         "Competitor made better offer"
        ],
        [
         "17",
         "Competitor made better offer"
        ],
        [
         "18",
         "Price too high"
        ],
        [
         "19",
         "Product dissatisfaction"
        ],
        [
         "20",
         "Service dissatisfaction"
        ],
        [
         "21",
         "Lack of self-service on Website"
        ],
        [
         "22",
         "Network reliability"
        ],
        [
         "23",
         "Limited range of services"
        ],
        [
         "24",
         "Lack of affordable download/upload speed"
        ],
        [
         "25",
         "Long distance charges"
        ],
        [
         "26",
         "Extra data charges"
        ],
        [
         "27",
         "Price too high"
        ],
        [
         "28",
         "Product dissatisfaction"
        ],
        [
         "29",
         "Service dissatisfaction"
        ],
        [
         "30",
         "Lack of self-service on Website"
        ],
        [
         "31",
         "Network reliability"
        ],
        [
         "32",
         "Don't know"
        ],
        [
         "33",
         "Don't know"
        ],
        [
         "34",
         "Don't know"
        ],
        [
         "35",
         "Poor expertise of online support"
        ],
        [
         "36",
         "Poor expertise of phone support"
        ],
        [
         "37",
         "Price too high"
        ],
        [
         "38",
         "Product dissatisfaction"
        ],
        [
         "39",
         "Service dissatisfaction"
        ],
        [
         "40",
         "Lack of self-service on Website"
        ],
        [
         "41",
         "Network reliability"
        ],
        [
         "42",
         "Limited range of services"
        ],
        [
         "43",
         "Lack of affordable download/upload speed"
        ],
        [
         "44",
         "Long distance charges"
        ],
        [
         "45",
         "Extra data charges"
        ],
        [
         "46",
         "Price too high"
        ],
        [
         "47",
         "Product dissatisfaction"
        ],
        [
         "48",
         "Service dissatisfaction"
        ],
        [
         "49",
         "Lack of self-service on Website"
        ]
       ],
       "shape": {
        "columns": 1,
        "rows": 7043
       }
      },
      "text/plain": [
       "0        Competitor made better offer\n",
       "1                               Moved\n",
       "2                               Moved\n",
       "3                               Moved\n",
       "4       Competitor had better devices\n",
       "                    ...              \n",
       "7038                              NaN\n",
       "7039                              NaN\n",
       "7040                              NaN\n",
       "7041                              NaN\n",
       "7042                              NaN\n",
       "Name: Churn Reason, Length: 7043, dtype: object"
      ]
     },
     "execution_count": 8,
     "metadata": {},
     "output_type": "execute_result"
    }
   ],
   "source": [
    "df['Churn Reason']"
   ]
  },
  {
   "cell_type": "code",
   "execution_count": 10,
   "id": "2bc2e3e6",
   "metadata": {},
   "outputs": [
    {
     "data": {
      "application/vnd.microsoft.datawrangler.viewer.v0+json": {
       "columns": [
        {
         "name": "Churn Category",
         "rawType": "object",
         "type": "string"
        },
        {
         "name": "count",
         "rawType": "int64",
         "type": "integer"
        }
       ],
       "ref": "641ef94b-1745-482d-b33b-04d750935947",
       "rows": [
        [
         "Competitor",
         "841"
        ],
        [
         "Attitude",
         "314"
        ],
        [
         "Dissatisfaction",
         "303"
        ],
        [
         "Price",
         "211"
        ],
        [
         "Other",
         "200"
        ]
       ],
       "shape": {
        "columns": 1,
        "rows": 5
       }
      },
      "text/plain": [
       "Churn Category\n",
       "Competitor         841\n",
       "Attitude           314\n",
       "Dissatisfaction    303\n",
       "Price              211\n",
       "Other              200\n",
       "Name: count, dtype: int64"
      ]
     },
     "execution_count": 10,
     "metadata": {},
     "output_type": "execute_result"
    }
   ],
   "source": [
    "df['Churn Category'].value_counts()"
   ]
  },
  {
   "cell_type": "code",
   "execution_count": 11,
   "id": "b95339eb",
   "metadata": {},
   "outputs": [
    {
     "data": {
      "application/vnd.microsoft.datawrangler.viewer.v0+json": {
       "columns": [
        {
         "name": "index",
         "rawType": "int64",
         "type": "integer"
        },
        {
         "name": "Customer ID",
         "rawType": "object",
         "type": "string"
        },
        {
         "name": "Count",
         "rawType": "int64",
         "type": "integer"
        },
        {
         "name": "Country",
         "rawType": "object",
         "type": "string"
        },
        {
         "name": "State",
         "rawType": "object",
         "type": "string"
        },
        {
         "name": "City",
         "rawType": "object",
         "type": "string"
        },
        {
         "name": "Zip Code",
         "rawType": "int64",
         "type": "integer"
        },
        {
         "name": "Lat Long",
         "rawType": "object",
         "type": "string"
        },
        {
         "name": "Latitude",
         "rawType": "float64",
         "type": "float"
        },
        {
         "name": "Longitude",
         "rawType": "float64",
         "type": "float"
        },
        {
         "name": "Gender",
         "rawType": "object",
         "type": "string"
        },
        {
         "name": "Senior Citizen",
         "rawType": "object",
         "type": "string"
        },
        {
         "name": "Partner",
         "rawType": "object",
         "type": "string"
        },
        {
         "name": "Dependents",
         "rawType": "object",
         "type": "string"
        },
        {
         "name": "Tenure Months",
         "rawType": "int64",
         "type": "integer"
        },
        {
         "name": "Phone Service",
         "rawType": "object",
         "type": "string"
        },
        {
         "name": "Multiple Lines",
         "rawType": "object",
         "type": "string"
        },
        {
         "name": "Internet Service",
         "rawType": "object",
         "type": "string"
        },
        {
         "name": "Online Security",
         "rawType": "object",
         "type": "string"
        },
        {
         "name": "Online Backup",
         "rawType": "object",
         "type": "string"
        },
        {
         "name": "Device Protection",
         "rawType": "object",
         "type": "string"
        },
        {
         "name": "Tech Support",
         "rawType": "object",
         "type": "string"
        },
        {
         "name": "Streaming TV",
         "rawType": "object",
         "type": "string"
        },
        {
         "name": "Streaming Movies",
         "rawType": "object",
         "type": "string"
        },
        {
         "name": "Contract",
         "rawType": "object",
         "type": "string"
        },
        {
         "name": "Paperless Billing",
         "rawType": "object",
         "type": "string"
        },
        {
         "name": "Payment Method",
         "rawType": "object",
         "type": "string"
        },
        {
         "name": "Monthly Charges",
         "rawType": "float64",
         "type": "float"
        },
        {
         "name": "Total Charges",
         "rawType": "object",
         "type": "string"
        },
        {
         "name": "Churn Label",
         "rawType": "object",
         "type": "string"
        },
        {
         "name": "Churn Value",
         "rawType": "int64",
         "type": "integer"
        },
        {
         "name": "Churn Score",
         "rawType": "int64",
         "type": "integer"
        },
        {
         "name": "CLTV",
         "rawType": "int64",
         "type": "integer"
        },
        {
         "name": "Churn Reason",
         "rawType": "object",
         "type": "string"
        },
        {
         "name": "LoyaltyID",
         "rawType": "int64",
         "type": "integer"
        },
        {
         "name": "Tenure",
         "rawType": "int64",
         "type": "integer"
        },
        {
         "name": "Churn",
         "rawType": "object",
         "type": "string"
        },
        {
         "name": "Age",
         "rawType": "int64",
         "type": "integer"
        },
        {
         "name": "Under 30",
         "rawType": "object",
         "type": "string"
        },
        {
         "name": "Married",
         "rawType": "object",
         "type": "string"
        },
        {
         "name": "Number of Dependents",
         "rawType": "int64",
         "type": "integer"
        },
        {
         "name": "Location ID",
         "rawType": "object",
         "type": "string"
        },
        {
         "name": "ID",
         "rawType": "int64",
         "type": "integer"
        },
        {
         "name": "Population",
         "rawType": "object",
         "type": "string"
        },
        {
         "name": "Service ID",
         "rawType": "object",
         "type": "string"
        },
        {
         "name": "Quarter",
         "rawType": "object",
         "type": "string"
        },
        {
         "name": "Referred a Friend",
         "rawType": "object",
         "type": "string"
        },
        {
         "name": "Number of Referrals",
         "rawType": "int64",
         "type": "integer"
        },
        {
         "name": "Tenure in Months",
         "rawType": "int64",
         "type": "integer"
        },
        {
         "name": "Offer",
         "rawType": "object",
         "type": "string"
        },
        {
         "name": "Avg Monthly Long Distance Charges",
         "rawType": "float64",
         "type": "float"
        },
        {
         "name": "Internet Type",
         "rawType": "object",
         "type": "string"
        },
        {
         "name": "Avg Monthly GB Download",
         "rawType": "int64",
         "type": "integer"
        },
        {
         "name": "Device Protection Plan",
         "rawType": "object",
         "type": "string"
        },
        {
         "name": "Premium Tech Support",
         "rawType": "object",
         "type": "string"
        },
        {
         "name": "Streaming Music",
         "rawType": "object",
         "type": "string"
        },
        {
         "name": "Unlimited Data",
         "rawType": "object",
         "type": "string"
        },
        {
         "name": "Monthly Charge",
         "rawType": "float64",
         "type": "float"
        },
        {
         "name": "Total Refunds",
         "rawType": "float64",
         "type": "float"
        },
        {
         "name": "Total Extra Data Charges",
         "rawType": "int64",
         "type": "integer"
        },
        {
         "name": "Total Long Distance Charges",
         "rawType": "float64",
         "type": "float"
        },
        {
         "name": "Total Revenue",
         "rawType": "float64",
         "type": "float"
        },
        {
         "name": "Status ID",
         "rawType": "object",
         "type": "string"
        },
        {
         "name": "Satisfaction Score",
         "rawType": "int64",
         "type": "integer"
        },
        {
         "name": "Customer Status",
         "rawType": "object",
         "type": "string"
        },
        {
         "name": "Churn Category",
         "rawType": "object",
         "type": "string"
        }
       ],
       "ref": "16c7d769-a423-4a21-bad5-f50750721b75",
       "rows": [
        [
         "0",
         "3668-QPYBK",
         "1",
         "United States",
         "California",
         "Los Angeles",
         "90003",
         "33.964131, -118.272783",
         "33.964131",
         "-118.272783",
         "Male",
         "No",
         "No",
         "No",
         "2",
         "Yes",
         "No",
         "DSL",
         "Yes",
         "Yes",
         "No",
         "No",
         "No",
         "No",
         "Month-to-month",
         "Yes",
         "Mailed check",
         "53.85",
         "108.15",
         "Yes",
         "1",
         "86",
         "3239",
         "Competitor made better offer",
         "326527",
         "2",
         "Yes",
         "37",
         "No",
         "No",
         "0",
         "PZZUIT6837",
         "3",
         "58,198",
         "ZLZTZWPWE3351",
         "Q3",
         "No",
         "0",
         "2",
         "None",
         "10.47",
         "DSL",
         "21",
         "No",
         "No",
         "No",
         "Yes",
         "53.85",
         "0.0",
         "0",
         "20.94",
         "129.09",
         "SUDNGT6444",
         "1",
         "Churned",
         "Competitor"
        ],
        [
         "1",
         "9237-HQITU",
         "1",
         "United States",
         "California",
         "Los Angeles",
         "90005",
         "34.059281, -118.30742",
         "34.059281",
         "-118.30742",
         "Female",
         "No",
         "No",
         "Yes",
         "2",
         "Yes",
         "No",
         "Fiber optic",
         "No",
         "No",
         "No",
         "No",
         "No",
         "No",
         "Month-to-month",
         "Yes",
         "Electronic check",
         "70.7",
         "151.65",
         "Yes",
         "1",
         "67",
         "2701",
         "Moved",
         "503388",
         "2",
         "Yes",
         "19",
         "Yes",
         "No",
         "2",
         "CKNALR2542",
         "5",
         "43,019",
         "GXJVSQIYH4715",
         "Q3",
         "No",
         "0",
         "2",
         "None",
         "9.12",
         "Fiber Optic",
         "51",
         "No",
         "No",
         "No",
         "Yes",
         "70.7",
         "0.0",
         "0",
         "18.24",
         "169.89",
         "KZSZDV8891",
         "2",
         "Churned",
         "Other"
        ],
        [
         "2",
         "9305-CDSKC",
         "1",
         "United States",
         "California",
         "Los Angeles",
         "90006",
         "34.048013, -118.293953",
         "34.048013",
         "-118.293953",
         "Female",
         "No",
         "No",
         "Yes",
         "8",
         "Yes",
         "Yes",
         "Fiber optic",
         "No",
         "No",
         "Yes",
         "No",
         "Yes",
         "Yes",
         "Month-to-month",
         "Yes",
         "Electronic check",
         "99.65",
         "820.5",
         "Yes",
         "1",
         "86",
         "5372",
         "Moved",
         "160192",
         "8",
         "Yes",
         "31",
         "No",
         "No",
         "2",
         "VCQKYE1638",
         "6",
         "62,784",
         "KDUHHRQBI5663",
         "Q3",
         "No",
         "0",
         "8",
         "None",
         "12.15",
         "Cable",
         "26",
         "Yes",
         "No",
         "Yes",
         "Yes",
         "99.65",
         "0.0",
         "0",
         "97.2",
         "917.7",
         "EPTIUU1269",
         "3",
         "Churned",
         "Other"
        ],
        [
         "3",
         "7892-POOKP",
         "1",
         "United States",
         "California",
         "Los Angeles",
         "90010",
         "34.062125, -118.315709",
         "34.062125",
         "-118.315709",
         "Female",
         "No",
         "Yes",
         "Yes",
         "28",
         "Yes",
         "Yes",
         "Fiber optic",
         "No",
         "No",
         "Yes",
         "Yes",
         "Yes",
         "Yes",
         "Month-to-month",
         "Yes",
         "Electronic check",
         "104.8",
         "3046.05",
         "Yes",
         "1",
         "84",
         "5003",
         "Moved",
         "582674",
         "28",
         "Yes",
         "23",
         "Yes",
         "Yes",
         "3",
         "SNLISG8671",
         "9",
         "1,957",
         "WXXQTNEZW3786",
         "Q3",
         "No",
         "0",
         "28",
         "Offer C",
         "4.89",
         "Fiber Optic",
         "47",
         "Yes",
         "Yes",
         "Yes",
         "Yes",
         "104.8",
         "0.0",
         "0",
         "136.92",
         "3182.97",
         "PAJIVH8196",
         "3",
         "Churned",
         "Other"
        ],
        [
         "4",
         "0280-XJGEX",
         "1",
         "United States",
         "California",
         "Los Angeles",
         "90015",
         "34.039224, -118.266293",
         "34.039224",
         "-118.266293",
         "Male",
         "No",
         "No",
         "Yes",
         "49",
         "Yes",
         "Yes",
         "Fiber optic",
         "No",
         "Yes",
         "Yes",
         "No",
         "Yes",
         "Yes",
         "Month-to-month",
         "Yes",
         "Bank transfer (automatic)",
         "103.7",
         "5036.3",
         "Yes",
         "1",
         "89",
         "5340",
         "Competitor had better devices",
         "933642",
         "49",
         "Yes",
         "38",
         "No",
         "No",
         "1",
         "YTSGZA8582",
         "14",
         "15,140",
         "LTNFDWAMC2575",
         "Q3",
         "No",
         "0",
         "49",
         "None",
         "44.33",
         "Fiber Optic",
         "11",
         "Yes",
         "No",
         "Yes",
         "Yes",
         "103.7",
         "0.0",
         "0",
         "2172.17",
         "7208.47",
         "RXFOMV1173",
         "1",
         "Churned",
         "Competitor"
        ]
       ],
       "shape": {
        "columns": 65,
        "rows": 5
       }
      },
      "text/html": [
       "<div>\n",
       "<style scoped>\n",
       "    .dataframe tbody tr th:only-of-type {\n",
       "        vertical-align: middle;\n",
       "    }\n",
       "\n",
       "    .dataframe tbody tr th {\n",
       "        vertical-align: top;\n",
       "    }\n",
       "\n",
       "    .dataframe thead th {\n",
       "        text-align: right;\n",
       "    }\n",
       "</style>\n",
       "<table border=\"1\" class=\"dataframe\">\n",
       "  <thead>\n",
       "    <tr style=\"text-align: right;\">\n",
       "      <th></th>\n",
       "      <th>Customer ID</th>\n",
       "      <th>Count</th>\n",
       "      <th>Country</th>\n",
       "      <th>State</th>\n",
       "      <th>City</th>\n",
       "      <th>Zip Code</th>\n",
       "      <th>Lat Long</th>\n",
       "      <th>Latitude</th>\n",
       "      <th>Longitude</th>\n",
       "      <th>Gender</th>\n",
       "      <th>Senior Citizen</th>\n",
       "      <th>Partner</th>\n",
       "      <th>Dependents</th>\n",
       "      <th>Tenure Months</th>\n",
       "      <th>Phone Service</th>\n",
       "      <th>Multiple Lines</th>\n",
       "      <th>Internet Service</th>\n",
       "      <th>Online Security</th>\n",
       "      <th>Online Backup</th>\n",
       "      <th>Device Protection</th>\n",
       "      <th>Tech Support</th>\n",
       "      <th>Streaming TV</th>\n",
       "      <th>Streaming Movies</th>\n",
       "      <th>Contract</th>\n",
       "      <th>Paperless Billing</th>\n",
       "      <th>Payment Method</th>\n",
       "      <th>Monthly Charges</th>\n",
       "      <th>Total Charges</th>\n",
       "      <th>Churn Label</th>\n",
       "      <th>Churn Value</th>\n",
       "      <th>Churn Score</th>\n",
       "      <th>CLTV</th>\n",
       "      <th>Churn Reason</th>\n",
       "      <th>LoyaltyID</th>\n",
       "      <th>Tenure</th>\n",
       "      <th>Churn</th>\n",
       "      <th>Age</th>\n",
       "      <th>Under 30</th>\n",
       "      <th>Married</th>\n",
       "      <th>Number of Dependents</th>\n",
       "      <th>Location ID</th>\n",
       "      <th>ID</th>\n",
       "      <th>Population</th>\n",
       "      <th>Service ID</th>\n",
       "      <th>Quarter</th>\n",
       "      <th>Referred a Friend</th>\n",
       "      <th>Number of Referrals</th>\n",
       "      <th>Tenure in Months</th>\n",
       "      <th>Offer</th>\n",
       "      <th>Avg Monthly Long Distance Charges</th>\n",
       "      <th>Internet Type</th>\n",
       "      <th>Avg Monthly GB Download</th>\n",
       "      <th>Device Protection Plan</th>\n",
       "      <th>Premium Tech Support</th>\n",
       "      <th>Streaming Music</th>\n",
       "      <th>Unlimited Data</th>\n",
       "      <th>Monthly Charge</th>\n",
       "      <th>Total Refunds</th>\n",
       "      <th>Total Extra Data Charges</th>\n",
       "      <th>Total Long Distance Charges</th>\n",
       "      <th>Total Revenue</th>\n",
       "      <th>Status ID</th>\n",
       "      <th>Satisfaction Score</th>\n",
       "      <th>Customer Status</th>\n",
       "      <th>Churn Category</th>\n",
       "    </tr>\n",
       "  </thead>\n",
       "  <tbody>\n",
       "    <tr>\n",
       "      <th>0</th>\n",
       "      <td>3668-QPYBK</td>\n",
       "      <td>1</td>\n",
       "      <td>United States</td>\n",
       "      <td>California</td>\n",
       "      <td>Los Angeles</td>\n",
       "      <td>90003</td>\n",
       "      <td>33.964131, -118.272783</td>\n",
       "      <td>33.964131</td>\n",
       "      <td>-118.272783</td>\n",
       "      <td>Male</td>\n",
       "      <td>No</td>\n",
       "      <td>No</td>\n",
       "      <td>No</td>\n",
       "      <td>2</td>\n",
       "      <td>Yes</td>\n",
       "      <td>No</td>\n",
       "      <td>DSL</td>\n",
       "      <td>Yes</td>\n",
       "      <td>Yes</td>\n",
       "      <td>No</td>\n",
       "      <td>No</td>\n",
       "      <td>No</td>\n",
       "      <td>No</td>\n",
       "      <td>Month-to-month</td>\n",
       "      <td>Yes</td>\n",
       "      <td>Mailed check</td>\n",
       "      <td>53.85</td>\n",
       "      <td>108.15</td>\n",
       "      <td>Yes</td>\n",
       "      <td>1</td>\n",
       "      <td>86</td>\n",
       "      <td>3239</td>\n",
       "      <td>Competitor made better offer</td>\n",
       "      <td>326527</td>\n",
       "      <td>2</td>\n",
       "      <td>Yes</td>\n",
       "      <td>37</td>\n",
       "      <td>No</td>\n",
       "      <td>No</td>\n",
       "      <td>0</td>\n",
       "      <td>PZZUIT6837</td>\n",
       "      <td>3</td>\n",
       "      <td>58,198</td>\n",
       "      <td>ZLZTZWPWE3351</td>\n",
       "      <td>Q3</td>\n",
       "      <td>No</td>\n",
       "      <td>0</td>\n",
       "      <td>2</td>\n",
       "      <td>None</td>\n",
       "      <td>10.47</td>\n",
       "      <td>DSL</td>\n",
       "      <td>21</td>\n",
       "      <td>No</td>\n",
       "      <td>No</td>\n",
       "      <td>No</td>\n",
       "      <td>Yes</td>\n",
       "      <td>53.85</td>\n",
       "      <td>0.0</td>\n",
       "      <td>0</td>\n",
       "      <td>20.94</td>\n",
       "      <td>129.09</td>\n",
       "      <td>SUDNGT6444</td>\n",
       "      <td>1</td>\n",
       "      <td>Churned</td>\n",
       "      <td>Competitor</td>\n",
       "    </tr>\n",
       "    <tr>\n",
       "      <th>1</th>\n",
       "      <td>9237-HQITU</td>\n",
       "      <td>1</td>\n",
       "      <td>United States</td>\n",
       "      <td>California</td>\n",
       "      <td>Los Angeles</td>\n",
       "      <td>90005</td>\n",
       "      <td>34.059281, -118.30742</td>\n",
       "      <td>34.059281</td>\n",
       "      <td>-118.307420</td>\n",
       "      <td>Female</td>\n",
       "      <td>No</td>\n",
       "      <td>No</td>\n",
       "      <td>Yes</td>\n",
       "      <td>2</td>\n",
       "      <td>Yes</td>\n",
       "      <td>No</td>\n",
       "      <td>Fiber optic</td>\n",
       "      <td>No</td>\n",
       "      <td>No</td>\n",
       "      <td>No</td>\n",
       "      <td>No</td>\n",
       "      <td>No</td>\n",
       "      <td>No</td>\n",
       "      <td>Month-to-month</td>\n",
       "      <td>Yes</td>\n",
       "      <td>Electronic check</td>\n",
       "      <td>70.70</td>\n",
       "      <td>151.65</td>\n",
       "      <td>Yes</td>\n",
       "      <td>1</td>\n",
       "      <td>67</td>\n",
       "      <td>2701</td>\n",
       "      <td>Moved</td>\n",
       "      <td>503388</td>\n",
       "      <td>2</td>\n",
       "      <td>Yes</td>\n",
       "      <td>19</td>\n",
       "      <td>Yes</td>\n",
       "      <td>No</td>\n",
       "      <td>2</td>\n",
       "      <td>CKNALR2542</td>\n",
       "      <td>5</td>\n",
       "      <td>43,019</td>\n",
       "      <td>GXJVSQIYH4715</td>\n",
       "      <td>Q3</td>\n",
       "      <td>No</td>\n",
       "      <td>0</td>\n",
       "      <td>2</td>\n",
       "      <td>None</td>\n",
       "      <td>9.12</td>\n",
       "      <td>Fiber Optic</td>\n",
       "      <td>51</td>\n",
       "      <td>No</td>\n",
       "      <td>No</td>\n",
       "      <td>No</td>\n",
       "      <td>Yes</td>\n",
       "      <td>70.70</td>\n",
       "      <td>0.0</td>\n",
       "      <td>0</td>\n",
       "      <td>18.24</td>\n",
       "      <td>169.89</td>\n",
       "      <td>KZSZDV8891</td>\n",
       "      <td>2</td>\n",
       "      <td>Churned</td>\n",
       "      <td>Other</td>\n",
       "    </tr>\n",
       "    <tr>\n",
       "      <th>2</th>\n",
       "      <td>9305-CDSKC</td>\n",
       "      <td>1</td>\n",
       "      <td>United States</td>\n",
       "      <td>California</td>\n",
       "      <td>Los Angeles</td>\n",
       "      <td>90006</td>\n",
       "      <td>34.048013, -118.293953</td>\n",
       "      <td>34.048013</td>\n",
       "      <td>-118.293953</td>\n",
       "      <td>Female</td>\n",
       "      <td>No</td>\n",
       "      <td>No</td>\n",
       "      <td>Yes</td>\n",
       "      <td>8</td>\n",
       "      <td>Yes</td>\n",
       "      <td>Yes</td>\n",
       "      <td>Fiber optic</td>\n",
       "      <td>No</td>\n",
       "      <td>No</td>\n",
       "      <td>Yes</td>\n",
       "      <td>No</td>\n",
       "      <td>Yes</td>\n",
       "      <td>Yes</td>\n",
       "      <td>Month-to-month</td>\n",
       "      <td>Yes</td>\n",
       "      <td>Electronic check</td>\n",
       "      <td>99.65</td>\n",
       "      <td>820.5</td>\n",
       "      <td>Yes</td>\n",
       "      <td>1</td>\n",
       "      <td>86</td>\n",
       "      <td>5372</td>\n",
       "      <td>Moved</td>\n",
       "      <td>160192</td>\n",
       "      <td>8</td>\n",
       "      <td>Yes</td>\n",
       "      <td>31</td>\n",
       "      <td>No</td>\n",
       "      <td>No</td>\n",
       "      <td>2</td>\n",
       "      <td>VCQKYE1638</td>\n",
       "      <td>6</td>\n",
       "      <td>62,784</td>\n",
       "      <td>KDUHHRQBI5663</td>\n",
       "      <td>Q3</td>\n",
       "      <td>No</td>\n",
       "      <td>0</td>\n",
       "      <td>8</td>\n",
       "      <td>None</td>\n",
       "      <td>12.15</td>\n",
       "      <td>Cable</td>\n",
       "      <td>26</td>\n",
       "      <td>Yes</td>\n",
       "      <td>No</td>\n",
       "      <td>Yes</td>\n",
       "      <td>Yes</td>\n",
       "      <td>99.65</td>\n",
       "      <td>0.0</td>\n",
       "      <td>0</td>\n",
       "      <td>97.20</td>\n",
       "      <td>917.70</td>\n",
       "      <td>EPTIUU1269</td>\n",
       "      <td>3</td>\n",
       "      <td>Churned</td>\n",
       "      <td>Other</td>\n",
       "    </tr>\n",
       "    <tr>\n",
       "      <th>3</th>\n",
       "      <td>7892-POOKP</td>\n",
       "      <td>1</td>\n",
       "      <td>United States</td>\n",
       "      <td>California</td>\n",
       "      <td>Los Angeles</td>\n",
       "      <td>90010</td>\n",
       "      <td>34.062125, -118.315709</td>\n",
       "      <td>34.062125</td>\n",
       "      <td>-118.315709</td>\n",
       "      <td>Female</td>\n",
       "      <td>No</td>\n",
       "      <td>Yes</td>\n",
       "      <td>Yes</td>\n",
       "      <td>28</td>\n",
       "      <td>Yes</td>\n",
       "      <td>Yes</td>\n",
       "      <td>Fiber optic</td>\n",
       "      <td>No</td>\n",
       "      <td>No</td>\n",
       "      <td>Yes</td>\n",
       "      <td>Yes</td>\n",
       "      <td>Yes</td>\n",
       "      <td>Yes</td>\n",
       "      <td>Month-to-month</td>\n",
       "      <td>Yes</td>\n",
       "      <td>Electronic check</td>\n",
       "      <td>104.80</td>\n",
       "      <td>3046.05</td>\n",
       "      <td>Yes</td>\n",
       "      <td>1</td>\n",
       "      <td>84</td>\n",
       "      <td>5003</td>\n",
       "      <td>Moved</td>\n",
       "      <td>582674</td>\n",
       "      <td>28</td>\n",
       "      <td>Yes</td>\n",
       "      <td>23</td>\n",
       "      <td>Yes</td>\n",
       "      <td>Yes</td>\n",
       "      <td>3</td>\n",
       "      <td>SNLISG8671</td>\n",
       "      <td>9</td>\n",
       "      <td>1,957</td>\n",
       "      <td>WXXQTNEZW3786</td>\n",
       "      <td>Q3</td>\n",
       "      <td>No</td>\n",
       "      <td>0</td>\n",
       "      <td>28</td>\n",
       "      <td>Offer C</td>\n",
       "      <td>4.89</td>\n",
       "      <td>Fiber Optic</td>\n",
       "      <td>47</td>\n",
       "      <td>Yes</td>\n",
       "      <td>Yes</td>\n",
       "      <td>Yes</td>\n",
       "      <td>Yes</td>\n",
       "      <td>104.80</td>\n",
       "      <td>0.0</td>\n",
       "      <td>0</td>\n",
       "      <td>136.92</td>\n",
       "      <td>3182.97</td>\n",
       "      <td>PAJIVH8196</td>\n",
       "      <td>3</td>\n",
       "      <td>Churned</td>\n",
       "      <td>Other</td>\n",
       "    </tr>\n",
       "    <tr>\n",
       "      <th>4</th>\n",
       "      <td>0280-XJGEX</td>\n",
       "      <td>1</td>\n",
       "      <td>United States</td>\n",
       "      <td>California</td>\n",
       "      <td>Los Angeles</td>\n",
       "      <td>90015</td>\n",
       "      <td>34.039224, -118.266293</td>\n",
       "      <td>34.039224</td>\n",
       "      <td>-118.266293</td>\n",
       "      <td>Male</td>\n",
       "      <td>No</td>\n",
       "      <td>No</td>\n",
       "      <td>Yes</td>\n",
       "      <td>49</td>\n",
       "      <td>Yes</td>\n",
       "      <td>Yes</td>\n",
       "      <td>Fiber optic</td>\n",
       "      <td>No</td>\n",
       "      <td>Yes</td>\n",
       "      <td>Yes</td>\n",
       "      <td>No</td>\n",
       "      <td>Yes</td>\n",
       "      <td>Yes</td>\n",
       "      <td>Month-to-month</td>\n",
       "      <td>Yes</td>\n",
       "      <td>Bank transfer (automatic)</td>\n",
       "      <td>103.70</td>\n",
       "      <td>5036.3</td>\n",
       "      <td>Yes</td>\n",
       "      <td>1</td>\n",
       "      <td>89</td>\n",
       "      <td>5340</td>\n",
       "      <td>Competitor had better devices</td>\n",
       "      <td>933642</td>\n",
       "      <td>49</td>\n",
       "      <td>Yes</td>\n",
       "      <td>38</td>\n",
       "      <td>No</td>\n",
       "      <td>No</td>\n",
       "      <td>1</td>\n",
       "      <td>YTSGZA8582</td>\n",
       "      <td>14</td>\n",
       "      <td>15,140</td>\n",
       "      <td>LTNFDWAMC2575</td>\n",
       "      <td>Q3</td>\n",
       "      <td>No</td>\n",
       "      <td>0</td>\n",
       "      <td>49</td>\n",
       "      <td>None</td>\n",
       "      <td>44.33</td>\n",
       "      <td>Fiber Optic</td>\n",
       "      <td>11</td>\n",
       "      <td>Yes</td>\n",
       "      <td>No</td>\n",
       "      <td>Yes</td>\n",
       "      <td>Yes</td>\n",
       "      <td>103.70</td>\n",
       "      <td>0.0</td>\n",
       "      <td>0</td>\n",
       "      <td>2172.17</td>\n",
       "      <td>7208.47</td>\n",
       "      <td>RXFOMV1173</td>\n",
       "      <td>1</td>\n",
       "      <td>Churned</td>\n",
       "      <td>Competitor</td>\n",
       "    </tr>\n",
       "  </tbody>\n",
       "</table>\n",
       "</div>"
      ],
      "text/plain": [
       "  Customer ID  Count        Country       State         City  Zip Code  \\\n",
       "0  3668-QPYBK      1  United States  California  Los Angeles     90003   \n",
       "1  9237-HQITU      1  United States  California  Los Angeles     90005   \n",
       "2  9305-CDSKC      1  United States  California  Los Angeles     90006   \n",
       "3  7892-POOKP      1  United States  California  Los Angeles     90010   \n",
       "4  0280-XJGEX      1  United States  California  Los Angeles     90015   \n",
       "\n",
       "                 Lat Long   Latitude   Longitude  Gender Senior Citizen  \\\n",
       "0  33.964131, -118.272783  33.964131 -118.272783    Male             No   \n",
       "1   34.059281, -118.30742  34.059281 -118.307420  Female             No   \n",
       "2  34.048013, -118.293953  34.048013 -118.293953  Female             No   \n",
       "3  34.062125, -118.315709  34.062125 -118.315709  Female             No   \n",
       "4  34.039224, -118.266293  34.039224 -118.266293    Male             No   \n",
       "\n",
       "  Partner Dependents  Tenure Months Phone Service Multiple Lines  \\\n",
       "0      No         No              2           Yes             No   \n",
       "1      No        Yes              2           Yes             No   \n",
       "2      No        Yes              8           Yes            Yes   \n",
       "3     Yes        Yes             28           Yes            Yes   \n",
       "4      No        Yes             49           Yes            Yes   \n",
       "\n",
       "  Internet Service Online Security Online Backup Device Protection  \\\n",
       "0              DSL             Yes           Yes                No   \n",
       "1      Fiber optic              No            No                No   \n",
       "2      Fiber optic              No            No               Yes   \n",
       "3      Fiber optic              No            No               Yes   \n",
       "4      Fiber optic              No           Yes               Yes   \n",
       "\n",
       "  Tech Support Streaming TV Streaming Movies        Contract  \\\n",
       "0           No           No               No  Month-to-month   \n",
       "1           No           No               No  Month-to-month   \n",
       "2           No          Yes              Yes  Month-to-month   \n",
       "3          Yes          Yes              Yes  Month-to-month   \n",
       "4           No          Yes              Yes  Month-to-month   \n",
       "\n",
       "  Paperless Billing             Payment Method  Monthly Charges Total Charges  \\\n",
       "0               Yes               Mailed check            53.85        108.15   \n",
       "1               Yes           Electronic check            70.70        151.65   \n",
       "2               Yes           Electronic check            99.65         820.5   \n",
       "3               Yes           Electronic check           104.80       3046.05   \n",
       "4               Yes  Bank transfer (automatic)           103.70        5036.3   \n",
       "\n",
       "  Churn Label  Churn Value  Churn Score  CLTV                   Churn Reason  \\\n",
       "0         Yes            1           86  3239   Competitor made better offer   \n",
       "1         Yes            1           67  2701                          Moved   \n",
       "2         Yes            1           86  5372                          Moved   \n",
       "3         Yes            1           84  5003                          Moved   \n",
       "4         Yes            1           89  5340  Competitor had better devices   \n",
       "\n",
       "   LoyaltyID  Tenure Churn  Age Under 30 Married  Number of Dependents  \\\n",
       "0     326527       2   Yes   37       No      No                     0   \n",
       "1     503388       2   Yes   19      Yes      No                     2   \n",
       "2     160192       8   Yes   31       No      No                     2   \n",
       "3     582674      28   Yes   23      Yes     Yes                     3   \n",
       "4     933642      49   Yes   38       No      No                     1   \n",
       "\n",
       "  Location ID  ID Population     Service ID Quarter Referred a Friend  \\\n",
       "0  PZZUIT6837   3     58,198  ZLZTZWPWE3351      Q3                No   \n",
       "1  CKNALR2542   5     43,019  GXJVSQIYH4715      Q3                No   \n",
       "2  VCQKYE1638   6     62,784  KDUHHRQBI5663      Q3                No   \n",
       "3  SNLISG8671   9      1,957  WXXQTNEZW3786      Q3                No   \n",
       "4  YTSGZA8582  14     15,140  LTNFDWAMC2575      Q3                No   \n",
       "\n",
       "   Number of Referrals  Tenure in Months    Offer  \\\n",
       "0                    0                 2     None   \n",
       "1                    0                 2     None   \n",
       "2                    0                 8     None   \n",
       "3                    0                28  Offer C   \n",
       "4                    0                49     None   \n",
       "\n",
       "   Avg Monthly Long Distance Charges Internet Type  Avg Monthly GB Download  \\\n",
       "0                              10.47           DSL                       21   \n",
       "1                               9.12   Fiber Optic                       51   \n",
       "2                              12.15         Cable                       26   \n",
       "3                               4.89   Fiber Optic                       47   \n",
       "4                              44.33   Fiber Optic                       11   \n",
       "\n",
       "  Device Protection Plan Premium Tech Support Streaming Music Unlimited Data  \\\n",
       "0                     No                   No              No            Yes   \n",
       "1                     No                   No              No            Yes   \n",
       "2                    Yes                   No             Yes            Yes   \n",
       "3                    Yes                  Yes             Yes            Yes   \n",
       "4                    Yes                   No             Yes            Yes   \n",
       "\n",
       "   Monthly Charge  Total Refunds  Total Extra Data Charges  \\\n",
       "0           53.85            0.0                         0   \n",
       "1           70.70            0.0                         0   \n",
       "2           99.65            0.0                         0   \n",
       "3          104.80            0.0                         0   \n",
       "4          103.70            0.0                         0   \n",
       "\n",
       "   Total Long Distance Charges  Total Revenue   Status ID  Satisfaction Score  \\\n",
       "0                        20.94         129.09  SUDNGT6444                   1   \n",
       "1                        18.24         169.89  KZSZDV8891                   2   \n",
       "2                        97.20         917.70  EPTIUU1269                   3   \n",
       "3                       136.92        3182.97  PAJIVH8196                   3   \n",
       "4                      2172.17        7208.47  RXFOMV1173                   1   \n",
       "\n",
       "  Customer Status Churn Category  \n",
       "0         Churned     Competitor  \n",
       "1         Churned          Other  \n",
       "2         Churned          Other  \n",
       "3         Churned          Other  \n",
       "4         Churned     Competitor  "
      ]
     },
     "execution_count": 11,
     "metadata": {},
     "output_type": "execute_result"
    }
   ],
   "source": [
    "df.head()"
   ]
  }
 ],
 "metadata": {
  "kernelspec": {
   "display_name": ".venv",
   "language": "python",
   "name": "python3"
  },
  "language_info": {
   "codemirror_mode": {
    "name": "ipython",
    "version": 3
   },
   "file_extension": ".py",
   "mimetype": "text/x-python",
   "name": "python",
   "nbconvert_exporter": "python",
   "pygments_lexer": "ipython3",
   "version": "3.12.3"
  }
 },
 "nbformat": 4,
 "nbformat_minor": 5
}
